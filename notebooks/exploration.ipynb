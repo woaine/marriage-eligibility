{
 "cells": [
  {
   "cell_type": "code",
   "execution_count": 1,
   "id": "77b56295",
   "metadata": {},
   "outputs": [],
   "source": [
    "import pandas as pd"
   ]
  },
  {
   "cell_type": "code",
   "execution_count": 4,
   "id": "83c5f413",
   "metadata": {},
   "outputs": [
    {
     "name": "stdout",
     "output_type": "stream",
     "text": [
      "Bridgerton data loaded successfully with 101 rows and 1 columns.\n"
     ]
    }
   ],
   "source": [
    "# Load the CSV file\n",
    "def load_data(filepath, name):\n",
    "    df = pd.read_csv(filepath, header=None)\n",
    "    print(f\"{name} data loaded successfully with {df.shape[0]} rows and {df.shape[1]} columns.\")\n",
    "    return df\n",
    "\n",
    "df = load_data(\"../data/raw/queen-charlotte.csv\", \"Bridgerton\")"
   ]
  },
  {
   "cell_type": "code",
   "execution_count": 6,
   "id": "aac76b91",
   "metadata": {},
   "outputs": [
    {
     "name": "stdout",
     "output_type": "stream",
     "text": [
      "                                                   0\n",
      "0  ID,Age,Gender,Social_Standing,Wealth_Level,Edu...\n",
      "1  1,22,Female,Upper,High,College,Strong,8,7,Char...\n",
      "2  2,30,Male,Middle,Medium,High School,Moderate,5...\n",
      "3  3,28,Female,Lower,Low,High School,Weak,6,5,Out...\n",
      "4  4,25,Female,Upper,High,College,Strong,7,6,Char...\n"
     ]
    }
   ],
   "source": [
    "# 101 rows and 1 column?\n",
    "# Inspect the first few rows\n",
    "print(df.head())"
   ]
  }
 ],
 "metadata": {
  "kernelspec": {
   "display_name": "Python 3",
   "language": "python",
   "name": "python3"
  },
  "language_info": {
   "codemirror_mode": {
    "name": "ipython",
    "version": 3
   },
   "file_extension": ".py",
   "mimetype": "text/x-python",
   "name": "python",
   "nbconvert_exporter": "python",
   "pygments_lexer": "ipython3",
   "version": "3.13.3"
  }
 },
 "nbformat": 4,
 "nbformat_minor": 5
}
