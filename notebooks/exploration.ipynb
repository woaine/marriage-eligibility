{
 "cells": [
  {
   "cell_type": "code",
   "execution_count": 1,
   "id": "77b56295",
   "metadata": {},
   "outputs": [],
   "source": [
    "import pandas as pd"
   ]
  },
  {
   "cell_type": "code",
   "execution_count": 2,
   "id": "83c5f413",
   "metadata": {},
   "outputs": [
    {
     "name": "stdout",
     "output_type": "stream",
     "text": [
      "Bridgerton data loaded successfully with 101 rows and 1 columns.\n"
     ]
    }
   ],
   "source": [
    "# Load the CSV file\n",
    "def load_data(filepath, name):\n",
    "    df = pd.read_csv(filepath, header=None)\n",
    "    print(f\"{name} data loaded successfully with {df.shape[0]} rows and {df.shape[1]} columns.\")\n",
    "    return df\n",
    "\n",
    "df = load_data(\"../data/raw/queen-charlotte.csv\", \"Bridgerton\")"
   ]
  },
  {
   "cell_type": "code",
   "execution_count": 3,
   "id": "aac76b91",
   "metadata": {},
   "outputs": [
    {
     "name": "stdout",
     "output_type": "stream",
     "text": [
      "                                                   0\n",
      "0  ID,Age,Gender,Social_Standing,Wealth_Level,Edu...\n",
      "1  1,22,Female,Upper,High,College,Strong,8,7,Char...\n",
      "2  2,30,Male,Middle,Medium,High School,Moderate,5...\n",
      "3  3,28,Female,Lower,Low,High School,Weak,6,5,Out...\n",
      "4  4,25,Female,Upper,High,College,Strong,7,6,Char...\n"
     ]
    }
   ],
   "source": [
    "# 101 rows and 1 column?\n",
    "# Inspect the first few rows\n",
    "print(df.head())"
   ]
  },
  {
   "cell_type": "markdown",
   "id": "03f23bed",
   "metadata": {},
   "source": [
    "## Data Restructuring"
   ]
  },
  {
   "cell_type": "markdown",
   "id": "44ab29f7",
   "metadata": {},
   "source": [
    "### Properly Format the CSV file"
   ]
  },
  {
   "cell_type": "code",
   "execution_count": 4,
   "id": "21e6b27b",
   "metadata": {},
   "outputs": [
    {
     "name": "stdout",
     "output_type": "stream",
     "text": [
      "Data is split into 28 columns.\n",
      "\n",
      "0 ID Age  Gender Social_Standing Wealth_Level Education_Level  \\\n",
      "0  1  22  Female           Upper         High         College   \n",
      "1  2  30    Male          Middle       Medium     High School   \n",
      "2  3  28  Female           Lower          Low     High School   \n",
      "3  4  25  Female           Upper         High         College   \n",
      "4  5  35    Male           Upper    Very High         College   \n",
      "\n",
      "0 Family_Connections Attractiveness Health Personality_Traits  ...  \\\n",
      "0             Strong              8      7           Charming  ...   \n",
      "1           Moderate              5      8           Reserved  ...   \n",
      "2               Weak              6      5           Outgoing  ...   \n",
      "3             Strong              7      6        Charismatic  ...   \n",
      "4             Strong              4      9            Serious  ...   \n",
      "\n",
      "0 Parents_Marital_Status Dowry_Size Land_Ownership Political_Influence  \\\n",
      "0                Married      Large            Yes            Moderate   \n",
      "1                Married     Medium             No                 Low   \n",
      "2               Divorced      Small             No            Very Low   \n",
      "3                Married      Large            Yes                High   \n",
      "4                Married       Huge            Yes           Very High   \n",
      "\n",
      "0 Religious_Devotion Artistic_Talents Eligible_Age Pregnancy_Status  \\\n",
      "0               High         Painting           18               No   \n",
      "1           Moderate            Music           25               No   \n",
      "2               High          Drawing           20               No   \n",
      "3          Very High          Dancing           20               No   \n",
      "4               High        Sculpting           25              N/A   \n",
      "\n",
      "0 Scandal_Involvement Will_Marry  \n",
      "0                None        Yes  \n",
      "1               Minor        Yes  \n",
      "2                None         No  \n",
      "3                None        Yes  \n",
      "4               Major        Yes  \n",
      "\n",
      "[5 rows x 28 columns]\n"
     ]
    }
   ],
   "source": [
    "# Split the single column using ',' as the delimiter\n",
    "df_split = df[0].str.split(',', expand=True)\n",
    "\n",
    "# Assign the first row of the split df as column headers\n",
    "df_split.columns = df_split.iloc[0] \n",
    "df_split = df_split[1:]\n",
    "df_split.reset_index(drop=True, inplace=True)\n",
    "\n",
    "# Inspect the first few rows of the split df\n",
    "print(f\"Data is split into {df_split.shape[1]} columns.\\n\")\n",
    "print(df_split.head())"
   ]
  },
  {
   "cell_type": "markdown",
   "id": "861ebef6",
   "metadata": {},
   "source": [
    "### Convert Column Headers to Lowercase"
   ]
  },
  {
   "cell_type": "code",
   "execution_count": 5,
   "id": "9918c94c",
   "metadata": {},
   "outputs": [
    {
     "name": "stdout",
     "output_type": "stream",
     "text": [
      "Column headers converted to lowercase.\n",
      "0 id age  gender social_standing wealth_level education_level  \\\n",
      "0  1  22  Female           Upper         High         College   \n",
      "1  2  30    Male          Middle       Medium     High School   \n",
      "2  3  28  Female           Lower          Low     High School   \n",
      "3  4  25  Female           Upper         High         College   \n",
      "4  5  35    Male           Upper    Very High         College   \n",
      "\n",
      "0 family_connections attractiveness health personality_traits  ...  \\\n",
      "0             Strong              8      7           Charming  ...   \n",
      "1           Moderate              5      8           Reserved  ...   \n",
      "2               Weak              6      5           Outgoing  ...   \n",
      "3             Strong              7      6        Charismatic  ...   \n",
      "4             Strong              4      9            Serious  ...   \n",
      "\n",
      "0 parents_marital_status dowry_size land_ownership political_influence  \\\n",
      "0                Married      Large            Yes            Moderate   \n",
      "1                Married     Medium             No                 Low   \n",
      "2               Divorced      Small             No            Very Low   \n",
      "3                Married      Large            Yes                High   \n",
      "4                Married       Huge            Yes           Very High   \n",
      "\n",
      "0 religious_devotion artistic_talents eligible_age pregnancy_status  \\\n",
      "0               High         Painting           18               No   \n",
      "1           Moderate            Music           25               No   \n",
      "2               High          Drawing           20               No   \n",
      "3          Very High          Dancing           20               No   \n",
      "4               High        Sculpting           25              N/A   \n",
      "\n",
      "0 scandal_involvement will_marry  \n",
      "0                None        Yes  \n",
      "1               Minor        Yes  \n",
      "2                None         No  \n",
      "3                None        Yes  \n",
      "4               Major        Yes  \n",
      "\n",
      "[5 rows x 28 columns]\n"
     ]
    }
   ],
   "source": [
    "# This is a common practice to ensure consistency and avoid case sensitivity issues\n",
    "df_split.columns = df_split.columns.astype(str).str.lower()\n",
    "print(\"Column headers converted to lowercase.\")\n",
    "print(df_split.head())"
   ]
  },
  {
   "cell_type": "markdown",
   "id": "32b546ba",
   "metadata": {},
   "source": [
    "### Rename the Column from `gender` to `sex`"
   ]
  },
  {
   "cell_type": "code",
   "execution_count": 6,
   "id": "b51f95fe",
   "metadata": {},
   "outputs": [],
   "source": [
    "# The data strictly represents biological categories (Male/Female)\n",
    "# without accounting for social or cultural contexts typically associated with 'gender'.\n",
    "df_split.rename(columns={'gender': 'sex'}, inplace=True)"
   ]
  },
  {
   "cell_type": "markdown",
   "id": "f62593f8",
   "metadata": {},
   "source": [
    "### Save the Restructured Data"
   ]
  },
  {
   "cell_type": "code",
   "execution_count": 8,
   "id": "049bc7b7",
   "metadata": {},
   "outputs": [
    {
     "name": "stdout",
     "output_type": "stream",
     "text": [
      "Restructured CSV saved as 'queen-charlotte-restructured.csv'\n"
     ]
    }
   ],
   "source": [
    "df_split.to_csv(\"../data//interim/queen-charlotte-restructured.csv\", index=False)\n",
    "print(\"Restructured CSV saved as 'queen-charlotte-restructured.csv'\")"
   ]
  }
 ],
 "metadata": {
  "kernelspec": {
   "display_name": "Python 3",
   "language": "python",
   "name": "python3"
  },
  "language_info": {
   "codemirror_mode": {
    "name": "ipython",
    "version": 3
   },
   "file_extension": ".py",
   "mimetype": "text/x-python",
   "name": "python",
   "nbconvert_exporter": "python",
   "pygments_lexer": "ipython3",
   "version": "3.13.3"
  }
 },
 "nbformat": 4,
 "nbformat_minor": 5
}
